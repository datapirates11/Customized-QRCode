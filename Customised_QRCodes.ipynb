{
 "cells": [
  {
   "cell_type": "markdown",
   "metadata": {},
   "source": [
    "# Costomised QRcode Generator"
   ]
  },
  {
   "cell_type": "code",
   "execution_count": null,
   "metadata": {},
   "outputs": [],
   "source": [
    "#Importing necessary packages\n",
    "import pyqrcode\n",
    "import tkinter as tk\n",
    "from tkinter import *\n",
    "from PIL import ImageTk, Image\n",
    "from tkinter import messagebox\n",
    "\n",
    "#Creating necessary widgets\n",
    "def creatwidgets():\n",
    "    label = Label(text = \"Enter Text: \", bg = \"azure3\") #colors are in R.\n",
    "    label.grid(row = 0, column = 1, padx = 5, pady = 5)\n",
    "    \n",
    "    root.entry = Entry(width = 30, textvariable = qrinput)\n",
    "    root.entry.grid(row = 0, column = 2, padx = 5, pady = 5)\n",
    "    \n",
    "    button = Button(width = 10, text = \"GENERATE\", command = QRCodeGenerate)\n",
    "    button.grid(row = 0, column = 3, padx = 5, pady = 5)\n",
    "    \n",
    "    label = Label(text = \"QR CODE : \", bg = \"azure3\")\n",
    "    label.grid(row = 1, column = 1, padx = 5, pady = 5)\n",
    "    \n",
    "    root.imagelabel = Label(root, background = \"azure3\")\n",
    "    root.imagelabel.grid(row = 2, column = 1, columnspan = 3, padx = 5, pady = 5)\n",
    "    \n",
    "#Defining QRCodeGenerate() function\n",
    "def QRCodeGenerate():\n",
    "    #Storing user input in variable\n",
    "    qrstring = qrinput.get()\n",
    "    \n",
    "    #Checking if user has entered some text \n",
    "    if qrstring != '':\n",
    "        qrgenerate = pyqrcode.create(qrstring)\n",
    "    \n",
    "        qrcodepath = 'C:/Users/Piyush/Desktop/IoT+Schneider/My_Projects/QR Codes/'\n",
    "        qrcodename = qrcodepath + qrstring + \".png\"\n",
    "        qrgenerate.png(qrcodename, scale = 10)\n",
    "    \n",
    "        #Opening the saved QRcode Image\n",
    "        image = Image.open(qrcodename)\n",
    "        image = image.resize((400, 400), Image.ANTIALIAS)\n",
    "        image = ImageTk.PhotoImage(image)\n",
    "    \n",
    "        root.imagelabel.config(image=image)\n",
    "        root.imagelabel.photo = image\n",
    "    \n",
    "    else:\n",
    "        messagebox.showerror(\"Error\", \"Enter a Text.! \")\n",
    "        \n",
    "root = tk.Tk()\n",
    "\n",
    "root.title(\"PyQR GENERATOR\")\n",
    "root.geometry(\"510x500\")\n",
    "root.resizable(False, False)\n",
    "root.config(background = \"azure3\")\n",
    "\n",
    "qrinput = tk.StringVar()\n",
    "\n",
    "creatwidgets()\n",
    "\n",
    "root.mainloop()\n",
    "\n"
   ]
  },
  {
   "cell_type": "code",
   "execution_count": null,
   "metadata": {},
   "outputs": [],
   "source": []
  }
 ],
 "metadata": {
  "kernelspec": {
   "display_name": "Python 3",
   "language": "python",
   "name": "python3"
  },
  "language_info": {
   "codemirror_mode": {
    "name": "ipython",
    "version": 3
   },
   "file_extension": ".py",
   "mimetype": "text/x-python",
   "name": "python",
   "nbconvert_exporter": "python",
   "pygments_lexer": "ipython3",
   "version": "3.7.6"
  }
 },
 "nbformat": 4,
 "nbformat_minor": 2
}
